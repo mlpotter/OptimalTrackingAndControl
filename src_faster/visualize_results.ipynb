{
 "cells": [
  {
   "cell_type": "code",
   "execution_count": null,
   "id": "dd79bc2f-b285-46f7-b162-ad16b73c16c7",
   "metadata": {},
   "outputs": [],
   "source": [
    "import matplotlib.pyplot as plt\n",
    "import seaborn as sns\n",
    "import numpy as np\n",
    "import pandas as pd\n",
    "import glob as glob\n",
    "import os\n",
    "import arviz as az"
   ]
  },
  {
   "cell_type": "code",
   "execution_count": null,
   "id": "b4d73cca-3aa2-4f30-bb90-1339cf551d33",
   "metadata": {},
   "outputs": [],
   "source": [
    "seed=np.arange(0,500,2)\n",
    "frame_skip=4\n",
    "dt_ckf=0.025\n",
    "dt_control=0.1\n",
    "N_steps=1000\n",
    "move_radars = [\"no-move_radars\",\"move_radars\"]\n",
    "remove_tmp_images = [\"remove_tmp_images\"]\n",
    "save_images = [\"no-save_images\"]"
   ]
  },
  {
   "cell_type": "code",
   "execution_count": null,
   "id": "06c3edb3-241d-4265-bccc-bb0273b99b81",
   "metadata": {},
   "outputs": [],
   "source": [
    "experiment_number = 12"
   ]
  },
  {
   "cell_type": "code",
   "execution_count": null,
   "id": "c35a98a9-4345-40f6-97c3-2f6bff55244a",
   "metadata": {},
   "outputs": [],
   "source": [
    "if experiment_number == 3:\n",
    "    N_radar = 4\n",
    "    title = f\"4 Radar - 4 Target\"\n",
    "elif experiment_number == 2 or experiment_number==7 or experiment_number==10 or experiment_number==12:\n",
    "    N_radar=6\n",
    "    title = f\"6 Radar - 3 Target\" \n",
    "elif experiment_number == 1 or experiment_number==8 or  experiment_number==9:\n",
    "    N_radar=3\n",
    "    title = f\"3 Radar - 4 Target\""
   ]
  },
  {
   "cell_type": "code",
   "execution_count": null,
   "id": "ebe21285-547a-475a-a03a-f73cbd72a2e0",
   "metadata": {},
   "outputs": [],
   "source": [
    "def get_rmse_array(filepath):\n",
    "    results_mv_radar = sorted(list(glob.iglob(filepath+\"*/*rmse*\")))\n",
    "\n",
    "    # print(results_mv_radar)\n",
    "\n",
    "    rmse_array = []\n",
    "    for rmse_file in results_mv_radar:\n",
    "        rmse_array_i = np.genfromtxt(rmse_file,delimiter=\",\",skip_header=1)\n",
    "        rmse_array.append(rmse_array_i[:600])\n",
    "\n",
    "    rmse_array = np.stack(rmse_array)\n",
    "\n",
    "    k = rmse_array[:,:600,0].mean(axis=0)\n",
    "    rmse = rmse_array[:,:600,1]\n",
    "\n",
    "\n",
    "    rmse = np.sqrt((rmse**2) / (N_radar*6))\n",
    "\n",
    "    \n",
    "    return k,rmse"
   ]
  },
  {
   "cell_type": "code",
   "execution_count": null,
   "id": "135b1495-9f7b-4f2e-aa3d-2046ba8412a3",
   "metadata": {},
   "outputs": [],
   "source": [
    "def get_hz_array(filepath):\n",
    "    results_mv_radar = sorted(list(glob.iglob(filepath+\"*/*hz*\")))\n",
    "\n",
    "    # print(results_mv_radar)\n",
    "\n",
    "    hz_array = []\n",
    "    for rmse_file in results_mv_radar:\n",
    "        hz_i = np.genfromtxt(rmse_file,delimiter=\",\",skip_header=1)\n",
    "        hz_i = hz_i[hz_i!=0]\n",
    "        hz_array.append(hz_i[:600])\n",
    "\n",
    "    hz = np.stack(hz_array)\n",
    "    \n",
    "    return hz"
   ]
  },
  {
   "cell_type": "code",
   "execution_count": null,
   "id": "db85ff5f-944e-45d0-8a67-1590298424c6",
   "metadata": {},
   "outputs": [],
   "source": [
    "experiment_name = os.path.join(f\"Experiment{experiment_number}_SFIM\",f\"N_radar={N_radar}-{move_radars[1]}\")\n",
    "results_savepath = \"results\"\n",
    "filepath = os.path.join(results_savepath,experiment_name)\n",
    "\n",
    "k,rmse_move_sfim = get_rmse_array(filepath)\n",
    "print(len(rmse_move_sfim))"
   ]
  },
  {
   "cell_type": "code",
   "execution_count": null,
   "id": "63cffbf9-94a3-4c4f-aca3-2fa3a65da960",
   "metadata": {},
   "outputs": [],
   "source": [
    "# experiment_name = os.path.join(f\"Experiment4_SFIM\",f\"N_radar={N_radar}-{move_radars[1]}\")\n",
    "# results_savepath = \"results\"\n",
    "# filepath = os.path.join(results_savepath,experiment_name)\n",
    "\n",
    "# hz_array = get_hz_array(filepath)"
   ]
  },
  {
   "cell_type": "code",
   "execution_count": null,
   "id": "200f6903-6bac-4875-aa2d-3706215dbf7f",
   "metadata": {},
   "outputs": [],
   "source": [
    "# experiment_name = os.path.join(f\"Experiment4_SFIM\",f\"N_radar={N_radar}-{move_radars[1]}\")\n",
    "# results_savepath = \"results\"\n",
    "# filepath = os.path.join(results_savepath,experiment_name)\n",
    "\n",
    "# k,rmse_move_sfim_fast = get_rmse_array(filepath)\n",
    "# print(len(rmse_move_sfim_fast))\n",
    "\n",
    "# plt.figure()\n",
    "# hz_array\n",
    "# az.plot_density(data = hz_array.mean(axis=1),colors=\"b\")\n",
    "# plt.show()\n",
    "\n",
    "# plt.figure(figsize=(5,5))\n",
    "# az.plot_hdi(k, np.expand_dims(rmse_move_sfim_fast,axis=0),hdi_prob=0.8,smooth=False,color='red',fill_kwargs={'alpha': 0.2})\n",
    "# plt.plot(np.quantile(rmse_move_sfim_fast,q=0.5,axis=0), linewidth=2,color=\"red\",label='SFIM Mobile Radar 26 Hz') #mean curve.\n",
    "# az.plot_hdi(k, np.expand_dims(rmse_move_sfim,axis=0),hdi_prob=0.8,smooth=False,color='blue',fill_kwargs={'alpha': 0.2})\n",
    "# plt.plot(np.quantile(rmse_move_sfim,q=0.5,axis=0), linewidth=2,color=\"blue\",label='SFIM Mobile Radar 10-15 Hz') #mean curve.\n",
    "# plt.xlabel(\"Time Step\",fontsize=15)\n",
    "# plt.ylabel('RMSE $(\\chi^{T_{1:M}},\\\\hat{\\chi}^{T_{1:M}})$',fontsize=15)\n",
    "# # plt.ylabel(\"$x^2$\")\n",
    "# plt.legend(loc=\"upper right\",fontsize=12)\n",
    "# # plt.title(\"3 Radars - 4 Targets\",fontsize=20)\n",
    "# plt.title(title,fontsize=15)\n",
    "\n",
    "# plt.savefig(os.path.join(\"results\",f\"rmse_fast{experiment_number}_compare.pdf\"))"
   ]
  },
  {
   "cell_type": "code",
   "execution_count": null,
   "id": "6c9f80e8-5797-4d4f-b3fa-45c0bbf099fa",
   "metadata": {},
   "outputs": [],
   "source": [
    "under_line = np.quantile(rmse_move_sfim,0.1,axis=0) #np.clip(rmse.std(axis=0)*-1.96,a_min=0,a_max=np.inf)\n",
    "over_line = np.quantile(rmse_move_sfim,0.9,axis=0) #rmse.std(axis=0)*1.96\n",
    "\n",
    "plt.plot(np.quantile(rmse_move_sfim,q=0.5,axis=0), linewidth=2) #mean curve.\n",
    "plt.fill_between(k, under_line, over_line, color='b', alpha=.25) #std curves."
   ]
  },
  {
   "cell_type": "code",
   "execution_count": null,
   "id": "d8c2601c-1683-46e6-9e47-edc7f79f2321",
   "metadata": {},
   "outputs": [],
   "source": [
    "plt.figure(figsize=(5,5))\n",
    "# rmse_move_sfim_old = rmse_move_sfim.copy()\n",
    "# az.plot_hdi(k, np.expand_dims(rmse_move_sfim_old,axis=0),hdi_prob=0.8,smooth=False,color='red',fill_kwargs={'alpha': 0.2})\n",
    "# plt.plot(np.quantile(rmse_move_sfim_old,q=0.5,axis=0), linewidth=2,color=\"red\",label='SFIM Mobile Radar') #mean curve.\n",
    "az.plot_hdi(k, np.expand_dims(rmse_move_sfim,axis=0),hdi_prob=0.8,smooth=False,color='blue',fill_kwargs={'alpha': 0.2})\n",
    "plt.plot(np.quantile(rmse_move_sfim,q=0.5,axis=0), linewidth=2,color=\"blue\",label='SFIM Mobile Radar') #mean curve."
   ]
  },
  {
   "cell_type": "code",
   "execution_count": null,
   "id": "38c65dcf-1e5b-4d17-aae4-7b9c5ffa8434",
   "metadata": {},
   "outputs": [],
   "source": [
    "experiment_name = os.path.join(f\"Experiment{experiment_number}_PFIM\",f\"N_radar={N_radar}-{move_radars[1]}\")\n",
    "results_savepath = \"results\"\n",
    "filepath = os.path.join(results_savepath,experiment_name)\n",
    "\n",
    "k,rmse_move_pfim = get_rmse_array(filepath)\n",
    "print(len(rmse_move_pfim))"
   ]
  },
  {
   "cell_type": "code",
   "execution_count": null,
   "id": "f57521e1-1aca-4cad-ad33-0f0bd0e8022c",
   "metadata": {},
   "outputs": [],
   "source": [
    "under_line = np.quantile(rmse_move_pfim,0.1,axis=0) #np.clip(rmse.std(axis=0)*-1.96,a_min=0,a_max=np.inf)\n",
    "over_line = np.quantile(rmse_move_pfim,0.9,axis=0) #rmse.std(axis=0)*1.96\n",
    "\n",
    "plt.plot(np.quantile(rmse_move_pfim,q=0.5,axis=0), linewidth=2) #mean curve.\n",
    "plt.fill_between(k, under_line, over_line, color='b', alpha=.25) #std curves."
   ]
  },
  {
   "cell_type": "code",
   "execution_count": null,
   "id": "bab7f0e2-44ba-45b3-a932-38386f0f4edb",
   "metadata": {},
   "outputs": [],
   "source": [
    "experiment_name = os.path.join(f\"Experiment{experiment_number}_PFIM_bad\",f\"N_radar={N_radar}-{move_radars[1]}\")\n",
    "results_savepath = \"results\"\n",
    "filepath = os.path.join(results_savepath,experiment_name)\n",
    "\n",
    "k,rmse_move_pfim_bad = get_rmse_array(filepath)\n",
    "print(len(rmse_move_pfim))"
   ]
  },
  {
   "cell_type": "code",
   "execution_count": null,
   "id": "121b097c-3005-4e4c-836b-670b61d4b776",
   "metadata": {},
   "outputs": [],
   "source": [
    "experiment_name = os.path.join(f\"Experiment{experiment_number}_SFIM_bad\",f\"N_radar={N_radar}-{move_radars[1]}\")\n",
    "results_savepath = \"results\"\n",
    "filepath = os.path.join(results_savepath,experiment_name)\n",
    "\n",
    "k,rmse_move_sfim_bad = get_rmse_array(filepath)\n",
    "print(len(rmse_move_sfim_bad))"
   ]
  },
  {
   "cell_type": "code",
   "execution_count": null,
   "id": "c678384f-9472-4dae-9a8f-1bcc1bd1e351",
   "metadata": {},
   "outputs": [],
   "source": [
    "plt.figure(figsize=(5,5))\n",
    "# rmse_move_sfim_bad_old = rmse_move_sfim_bad.copy()\n",
    "# az.plot_hdi(k, np.expand_dims(rmse_move_sfim_bad_old,axis=0),hdi_prob=0.8,smooth=False,color='blue',fill_kwargs={'alpha': 0.2})\n",
    "# plt.plot(np.quantile(rmse_move_sfim_bad_old,q=0.5,axis=0), linewidth=2,color=\"blue\",label='SFIM Mobile Radar') #mean curve.\n",
    "az.plot_hdi(k, np.expand_dims(rmse_move_sfim_bad,axis=0),hdi_prob=0.8,smooth=False,color='red',fill_kwargs={'alpha': 0.2})\n",
    "plt.plot(np.quantile(rmse_move_sfim_bad,q=0.5,axis=0), linewidth=2,color=\"red\",label='SFIM Bad Mobile Radar') #mean curve."
   ]
  },
  {
   "cell_type": "code",
   "execution_count": null,
   "id": "4e05ce85-3cee-43c3-8a74-9c823127d05d",
   "metadata": {},
   "outputs": [],
   "source": [
    "plt.figure(figsize=(5,5))\n",
    "hdi_interval = 0.90\n",
    "az.plot_hdi(k, np.expand_dims(rmse_move_sfim,axis=0),hdi_prob=hdi_interval,smooth=False,color='blue',fill_kwargs={'alpha': 0.2})\n",
    "plt.plot(np.quantile(rmse_move_sfim,q=0.5,axis=0), linewidth=2,color=\"blue\",label='SFIM Mobile Radar') #mean curve.\n",
    "az.plot_hdi(k, np.expand_dims(rmse_move_sfim_bad,axis=0),hdi_prob=hdi_interval,smooth=False,color='red',fill_kwargs={'alpha': 0.2})\n",
    "plt.plot(np.quantile(rmse_move_sfim_bad,q=0.5,axis=0), linewidth=2,color=\"red\",label='SFIM Bad Mobile Radar') #mean curve."
   ]
  },
  {
   "cell_type": "code",
   "execution_count": null,
   "id": "6f9ddb98-27ac-409d-9442-72e7da5dd30c",
   "metadata": {},
   "outputs": [],
   "source": [
    "under_line = np.quantile(rmse_move_pfim,0.1,axis=0) #np.clip(rmse.std(axis=0)*-1.96,a_min=0,a_max=np.inf)\n",
    "over_line = np.quantile(rmse_move_pfim,0.9,axis=0) #rmse.std(axis=0)*1.96\n",
    "\n",
    "plt.plot(np.quantile(rmse_move_pfim,q=0.5,axis=0), linewidth=2) #mean curve.\n",
    "plt.fill_between(k, under_line, over_line, color='b', alpha=.25) #std curves."
   ]
  },
  {
   "cell_type": "code",
   "execution_count": null,
   "id": "89196970-655c-4814-aa43-a2989f0db540",
   "metadata": {},
   "outputs": [],
   "source": [
    "# under_line_move = np.quantile(rmse_move,0.1,axis=0) #np.clip(rmse.std(axis=0)*-1.96,a_min=0,a_max=np.inf)\n",
    "# over_line_move = np.quantile(rmse_move,0.9,axis=0) #rmse.std(axis=0)*1.96\n",
    "\n",
    "# plt.plot(np.quantile(rmse_move,q=0.5,axis=0), linewidth=2,label=\"SFIM Median\") #mean curve.\n",
    "# plt.fill_between(k, under_line_move, over_line_move, color='b', alpha=.25,label=\"SFIM Credible Interval\") #std curves.\n",
    "\n",
    "# under_line_nomove = np.quantile(rmse_move_pcrlb,0.1,axis=0) #np.clip(rmse.std(axis=0)*-1.96,a_min=0,a_max=np.inf)\n",
    "# over_line_nomove = np.quantile(rmse_move_pcrlb,0.9,axis=0) #rmse.std(axis=0)*1.96\n",
    "\n",
    "# plt.plot(np.quantile(rmse_move_pcrlb,q=0.5,axis=0), linewidth=2,label=\"PFIM Median\") #mean curve.\n",
    "# plt.fill_between(k, under_line_nomove, over_line_nomove, color='r', alpha=.25,label=\"PFIM Credible Interval\") #std curves.\n",
    "# plt.xlabel(\"Time Step\")\n",
    "# plt.ylabel(\"RMSE\")\n",
    "# plt.legend(loc=\"upper center\")\n",
    "# plt.savefig(os.path.join(\"results\",\"N_radars=3,SFIMvsPCRLB.pdf\"))"
   ]
  },
  {
   "cell_type": "code",
   "execution_count": null,
   "id": "6cf1cafa-62b8-4b50-9641-4f002275757c",
   "metadata": {},
   "outputs": [],
   "source": [
    "experiment_name = os.path.join(f\"Experiment{experiment_number}_SFIM\",f\"N_radar={N_radar}-{move_radars[0]}\")\n",
    "results_savepath = \"results\"\n",
    "filepath = os.path.join(results_savepath,experiment_name)\n",
    "\n",
    "k,rmse_nomove = get_rmse_array(filepath)\n",
    "print(len(rmse_nomove))"
   ]
  },
  {
   "cell_type": "code",
   "execution_count": null,
   "id": "0acb1097-b2aa-4fb8-a023-4eafb7b41a1b",
   "metadata": {},
   "outputs": [],
   "source": [
    "under_line = np.quantile(rmse_nomove,0.1,axis=0) #np.clip(rmse.std(axis=0)*-1.96,a_min=0,a_max=np.inf)\n",
    "over_line = np.quantile(rmse_nomove,0.9,axis=0) #rmse.std(axis=0)*1.96\n",
    "\n",
    "plt.plot(np.quantile(rmse_nomove,q=0.5,axis=0), linewidth=2) #mean curve.\n",
    "plt.fill_between(k, under_line, over_line, color='b', alpha=.25) #std curves."
   ]
  },
  {
   "cell_type": "code",
   "execution_count": null,
   "id": "7728adad-0a2e-43dd-a77a-106467a4c474",
   "metadata": {},
   "outputs": [],
   "source": [
    "# under_line_move = np.quantile(rmse_move,0.1,axis=0) #np.clip(rmse.std(axis=0)*-1.96,a_min=0,a_max=np.inf)\n",
    "# over_line_move = np.quantile(rmse_move,0.9,axis=0) #rmse.std(axis=0)*1.96\n",
    "\n",
    "# plt.plot(np.quantile(rmse_move,q=0.5,axis=0), linewidth=2,label=\"Move Median\") #mean curve.\n",
    "# plt.fill_between(k, under_line_move, over_line_move, color='b', alpha=.25,label=\"Move Credible Interval\") #std curves.\n",
    "\n",
    "# under_line_nomove = np.quantile(rmse_nomove,0.1,axis=0) #np.clip(rmse.std(axis=0)*-1.96,a_min=0,a_max=np.inf)\n",
    "# over_line_nomove = np.quantile(rmse_nomove,0.9,axis=0) #rmse.std(axis=0)*1.96\n",
    "\n",
    "# plt.plot(np.quantile(rmse_nomove,q=0.5,axis=0), linewidth=2,label=\"No Move Median\") #mean curve.\n",
    "# plt.fill_between(k, under_line_nomove, over_line_nomove, color='r', alpha=.25,label=\"No Move Credible Interval\") #std curves.\n",
    "# plt.xlabel(\"Time Step\")\n",
    "# plt.ylabel(\"RMSE\")\n",
    "# plt.legend(loc=\"upper left\")\n",
    "# plt.savefig(os.path.join(\"results\",\"N_radars=3,SFIM.pdf\"))"
   ]
  },
  {
   "cell_type": "code",
   "execution_count": null,
   "id": "2019b32d-1b86-41b8-8f5f-ddd1509418ec",
   "metadata": {
    "tags": []
   },
   "outputs": [],
   "source": [
    "plt.figure(figsize=(5,5))\n",
    "az.plot_hdi(k, np.expand_dims(rmse_nomove,axis=0),hdi_prob=0.8,smooth=False,color='cyan',fill_kwargs={'alpha': 0.2})\n",
    "plt.plot(np.quantile(rmse_nomove,q=0.5,axis=0), linewidth=2,color=\"cyan\",label='Stationary Radar') #mean curve.\n",
    "az.plot_hdi(k, np.expand_dims(rmse_move_pfim_bad,axis=0),hdi_prob=0.8,smooth=False,color='green',fill_kwargs={'alpha': 0.2})\n",
    "plt.plot(np.quantile(rmse_move_pfim_bad,q=0.5,axis=0), linewidth=2,color=\"green\",label='PFIM Mobile Radar [9,13,22]') #mean curve.\n",
    "az.plot_hdi(k, np.expand_dims(rmse_move_sfim_bad,axis=0),hdi_prob=0.8,smooth=False,color='red',fill_kwargs={'alpha': 0.2})\n",
    "plt.plot(np.quantile(rmse_move_sfim_bad,q=0.5,axis=0), linewidth=2,color=\"red\",label='SFIM Mobile Radar [9,13,22]') #mean curve.\n",
    "az.plot_hdi(k, np.expand_dims(rmse_move_pfim,axis=0),hdi_prob=0.8,smooth=False,color='orange',fill_kwargs={'alpha': 0.2})\n",
    "plt.plot(np.quantile(rmse_move_pfim,q=0.5,axis=0), linewidth=2,color=\"orange\",label='PFIM Mobile Radar [ours]') #mean curve.\n",
    "az.plot_hdi(k, np.expand_dims(rmse_move_sfim,axis=0),hdi_prob=0.8,smooth=False,color='blue',fill_kwargs={'alpha': 0.2})\n",
    "plt.plot(np.quantile(rmse_move_sfim,q=0.5,axis=0), linewidth=2,color=\"blue\",label='SFIM Mobile Radar [ours]') #mean curve.\n",
    "\n",
    "plt.xlabel(\"Time Step\",fontsize=15)\n",
    "plt.ylabel('RMSE $(\\chi^{T_{1:M}},\\\\hat{\\chi}^{T_{1:M}})$',fontsize=15)\n",
    "# plt.ylabel(\"$x^2$\")\n",
    "plt.legend(loc=\"upper left\",fontsize=12)\n",
    "# plt.title(\"3 Radars - 4 Targets\",fontsize=20)\n",
    "plt.title(title,fontsize=15)\n",
    "\n",
    "plt.savefig(os.path.join(\"results\",f\"rmse_overlayed{experiment_number}.pdf\"))"
   ]
  },
  {
   "cell_type": "code",
   "execution_count": null,
   "id": "50d0a75d-8c37-4ff5-828c-408c48812c93",
   "metadata": {},
   "outputs": [],
   "source": [
    "# plt.figure(figsize=(5,5))\n",
    "\n",
    "# # # sns.histplot(rmse_nomove.ravel(),color='cyan',label='PFIM Mobile Radar [9,13,22]')\n",
    "# # sns.histplot(rmse_move_pfim_bad.ravel(),color='green',label='PFIM Mobile Radar [9,13,22]',kde=True)\n",
    "# # sns.histplot(rmse_move_sfim_bad.ravel(),color='red',label='SFIM Mobile Radar [9,13,22]',kde=True)\n",
    "# # sns.histplot(rmse_move_pfim.ravel(),color='orange',label='PFIM Mobile Radar [ours]',kde=True)\n",
    "# # sns.histplot(rmse_move_sfim.ravel(),color='blue',label='PFIM Mobile Radar [ours]',kde=True)\n",
    "\n",
    "# fig, ax = plt.subplots(figsize=(5,5)) #,plot_kwargs={\"label\":'PFIM Mobile Radar [9,13,22]','color':\"green\"})\n",
    "# az.plot_ecdf(rmse_move_pfim_bad.ravel(),ax=ax,plot_kwargs={\"label\":'PFIM Mobile Radar [9,13,22]','color':\"green\"},npoints=1000)\n",
    "# az.plot_ecdf(rmse_move_sfim_bad.ravel(),ax=ax,plot_kwargs={\"label\":'SFIM Mobile Radar [9,13,22]','color':\"red\"},npoints=1000) #,label='SFIM Mobile Radar [9,13,22]')\n",
    "# az.plot_ecdf(rmse_move_pfim.ravel(),ax=ax,plot_kwargs={\"label\":'PFIM Mobile Radar [ours]','color':\"orange\"},npoints=1000) #,label='PFIM Mobile Radar [ours]')\n",
    "# az.plot_ecdf(rmse_move_sfim.ravel(),ax=ax,plot_kwargs={\"label\":'SFIM Mobile Radar [ours]','color':\"blue\"},npoints=1000) #,label='PFIM Mobile Radar [ours]')\n",
    "\n",
    "# plt.ylabel(\"Count\",fontsize=15)\n",
    "# plt.xlabel('RMSE $(\\chi^{T_{1:M}},\\\\hat{\\chi}^{T_{1:M}})$',fontsize=15)\n",
    "# # plt.ylabel(\"$x^2$\")\n",
    "# plt.legend(loc=\"lower right\",fontsize=12)\n",
    "# # plt.title(\"3 Radars - 4 Targets\",fontsize=20)\n",
    "# plt.title(title,fontsize=15)\n",
    "# plt.xlim([0,8])\n",
    "\n",
    "# plt.savefig(os.path.join(\"results\",f\"hist_overlayed{experiment_number}.pdf\"))"
   ]
  },
  {
   "cell_type": "code",
   "execution_count": null,
   "id": "58ccc9e3-e062-40a4-9176-5fde693f6dcf",
   "metadata": {},
   "outputs": [],
   "source": [
    "plt.figure(figsize=(5,5))\n",
    "hdi_interval = 0.9\n",
    "az.plot_hdi(k, np.expand_dims(rmse_move_pfim_bad,axis=0),hdi_prob=hdi_interval,smooth=False,color='green',fill_kwargs={'alpha': 0.2})\n",
    "plt.plot(np.quantile(rmse_move_pfim_bad,q=0.5,axis=0), linewidth=2,color=\"green\",label='PFIM Mobile Radar [9,13,22]') #mean curve.\n",
    "az.plot_hdi(k, np.expand_dims(rmse_move_sfim_bad,axis=0),hdi_prob=hdi_interval,smooth=False,color='red',fill_kwargs={'alpha': 0.2})\n",
    "plt.plot(np.quantile(rmse_move_sfim_bad,q=0.5,axis=0), linewidth=2,color=\"red\",label='SFIM Mobile Radar [9,13,22]') #mean curve.\n",
    "az.plot_hdi(k, np.expand_dims(rmse_move_pfim,axis=0),hdi_prob=hdi_interval,smooth=False,color='orange',fill_kwargs={'alpha': 0.2})\n",
    "plt.plot(np.quantile(rmse_move_pfim,q=0.5,axis=0), linewidth=2,color=\"orange\",label='PFIM Mobile Radar [ours]') #mean curve.\n",
    "az.plot_hdi(k, np.expand_dims(rmse_move_sfim,axis=0),hdi_prob=hdi_interval,smooth=False,color='blue',fill_kwargs={'alpha': 0.2})\n",
    "plt.plot(np.quantile(rmse_move_sfim,q=0.5,axis=0), linewidth=2,color=\"blue\",label='SFIM Mobile Radar [ours]') #mean curve.\n",
    "\n",
    "plt.xlabel(\"Time Step\",fontsize=15)\n",
    "plt.ylabel('RMSE $(\\chi^{T_{1:M}},\\\\hat{\\chi}^{T_{1:M}})$',fontsize=15)\n",
    "# plt.ylabel(\"$x^2$\")\n",
    "plt.legend(loc=\"upper right\",fontsize=12)\n",
    "plt.title(title,fontsize=15)\n",
    "plt.savefig(os.path.join(\"results\",f\"rmse_overlayed_sfimbad{experiment_number}.pdf\")) # "
   ]
  },
  {
   "cell_type": "code",
   "execution_count": null,
   "id": "f99258db-4ffa-4abd-a608-3fdc0c7ead63",
   "metadata": {},
   "outputs": [],
   "source": [
    "plt.figure(figsize=(5,5))\n",
    "# az.plot_hdi(k, np.expand_dims(rmse_move_pfim_bad,axis=0),hdi_prob=0.8,smooth=False,color='green',fill_kwargs={'alpha': 0.2})\n",
    "plt.plot(np.quantile(rmse_move_pfim_bad,q=0.5,axis=0), linewidth=1,color=\"green\",label='PFIM Mobile Radar [9,13,22]') #mean curve.\n",
    "# az.plot_hdi(k, np.expand_dims(rmse_move_sfim_bad,axis=0),hdi_prob=0.8,smooth=False,color='red',fill_kwargs={'alpha': 0.2})\n",
    "plt.plot(np.quantile(rmse_move_sfim_bad,q=0.5,axis=0), linewidth=1,color=\"red\",label='SFIM Mobile Radar [9,13,22]') #mean curve.\n",
    "# az.plot_hdi(k, np.expand_dims(rmse_move_pfim,axis=0),hdi_prob=0.8,smooth=False,color='orange',fill_kwargs={'alpha': 0.2})\n",
    "plt.plot(np.quantile(rmse_move_pfim,q=0.5,axis=0), linewidth=1,color=\"orange\",label='PFIM Mobile Radar [ours]') #mean curve.\n",
    "# az.plot_hdi(k, np.expand_dims(rmse_move_sfim,axis=0),hdi_prob=0.8,smooth=False,color='blue',fill_kwargs={'alpha': 0.2})\n",
    "plt.plot(np.quantile(rmse_move_sfim,q=0.5,axis=0), linewidth=1,color=\"blue\",label='SFIM Mobile Radar [ours]') #mean curve.\n",
    "\n",
    "plt.xlabel(\"Time Step\",fontsize=15)\n",
    "plt.ylabel('RMSE $(\\chi^{T_{1:M}},\\\\hat{\\chi}^{T_{1:M}})$',fontsize=15)\n",
    "# plt.ylabel(\"$x^2$\")\n",
    "plt.legend(loc=\"upper right\",fontsize=12)\n",
    "plt.title(title,fontsize=15)\n",
    "plt.savefig(os.path.join(\"results\",f\"rmse_overlayed_sfimbad_nohdi{experiment_number}.pdf\"))"
   ]
  },
  {
   "cell_type": "code",
   "execution_count": null,
   "id": "67528dbd-563f-41ba-a929-c70e84fbf047",
   "metadata": {},
   "outputs": [],
   "source": [
    "print(\"SFIM med: \",np.median(rmse_move_sfim))\n",
    "print(\"PFIM med: \",np.median(rmse_move_pfim))\n",
    "print(\"SFIM bad med: \",np.median(rmse_move_sfim_bad))\n",
    "print(\"PFIM bad med: \",np.median(rmse_move_pfim_bad))\n",
    "print(\"No move: \",np.median(rmse_nomove))"
   ]
  },
  {
   "cell_type": "code",
   "execution_count": null,
   "id": "98b8a83f-def2-4962-8349-d479f15ffff2",
   "metadata": {},
   "outputs": [],
   "source": [
    "print(\"SFIM hdi upper: \",np.mean(rmse_move_sfim))\n",
    "print(\"PFIM hdi upper: \",np.mean(rmse_move_pfim))\n",
    "print(\"SFIM bad hdi upper: \",np.mean(rmse_move_sfim_bad))\n",
    "print(\"PFIM bad hdi upper: \",np.mean(rmse_move_pfim_bad))\n",
    "print(\"No move: \",np.mean(rmse_nomove))"
   ]
  },
  {
   "cell_type": "code",
   "execution_count": null,
   "id": "199c6f1b-af85-488d-aa2f-bf9f2ee5e7ea",
   "metadata": {},
   "outputs": [],
   "source": [
    "hdi_interval = 0.90\n",
    "print(\"SFIM hdi upper: \",az.hdi(rmse_move_sfim.ravel(),hdi_prob=hdi_interval)[1])\n",
    "print(\"PFIM hdi upper: \",az.hdi(rmse_move_pfim.ravel(),hdi_prob=hdi_interval)[1])\n",
    "print(\"SFIM hdi upper: \",az.hdi(rmse_move_sfim_bad.ravel(),hdi_prob=hdi_interval)[1])\n",
    "print(\"PFIM hdi upper: \",az.hdi(rmse_move_pfim_bad.ravel(),hdi_prob=hdi_interval)[1])\n",
    "print(\"No move: \",az.hdi(rmse_nomove.ravel(),hdi_prob=0.8)[1])"
   ]
  },
  {
   "cell_type": "markdown",
   "id": "769fc163-5d4f-4855-a768-0db182a1f0a8",
   "metadata": {},
   "source": [
    "## Plot ECDF"
   ]
  },
  {
   "cell_type": "code",
   "execution_count": null,
   "id": "06eee299-ba6c-4677-a435-75589aa45d37",
   "metadata": {},
   "outputs": [],
   "source": [
    "from statsmodels.distributions.empirical_distribution import ECDF"
   ]
  },
  {
   "cell_type": "code",
   "execution_count": null,
   "id": "e37b1181-d835-40e5-a0f1-ad00c1a8f809",
   "metadata": {},
   "outputs": [],
   "source": [
    "pfim_bad_ecdf = ECDF(rmse_move_pfim_bad.ravel())\n",
    "sfim_bad_ecdf = ECDF(rmse_move_sfim_bad.ravel())\n",
    "pfim_ecdf = ECDF(rmse_move_pfim.ravel())\n",
    "sfim_ecdf = ECDF(rmse_move_sfim.ravel())\n",
    "nomove_ecdf = ECDF(rmse_nomove.ravel())"
   ]
  },
  {
   "cell_type": "code",
   "execution_count": null,
   "id": "292c04cb-e431-4685-93bc-282e3e6688d4",
   "metadata": {},
   "outputs": [],
   "source": [
    "error = np.linspace(0,30,2000)"
   ]
  },
  {
   "cell_type": "code",
   "execution_count": null,
   "id": "a7e85cc9-0e64-4479-bf43-4290cca558f7",
   "metadata": {},
   "outputs": [],
   "source": [
    "pfim_bad_ecdf = pfim_bad_ecdf(error)\n",
    "sfim_bad_ecdf = sfim_bad_ecdf(error)\n",
    "pfim_ecdf = pfim_ecdf(error)\n",
    "sfim_ecdf = sfim_ecdf(error)\n",
    "nomove_ecdf = nomove_ecdf(error)"
   ]
  },
  {
   "cell_type": "code",
   "execution_count": null,
   "id": "20b1b913-8c8c-4c9f-a0c9-996fc4aa8776",
   "metadata": {},
   "outputs": [],
   "source": [
    "plt.figure(figsize=(5,5))\n",
    "plt.plot(error,nomove_ecdf,\"c-\",linewidth=2,label=\"Stationary Radar\")\n",
    "plt.plot(error,pfim_bad_ecdf,\"g-\",linewidth=2,label=\"PFIM Mobile Radar [9,13,22]\")\n",
    "plt.plot(error,sfim_bad_ecdf,\"r--\",linewidth=2,label=\"SFIM Mobile Radar [9,13,22]\")\n",
    "plt.plot(error,pfim_ecdf,color=\"orange\",linewidth=2,linestyle=\"-\",label=\"PFIM Mobile Radar [ours]\")\n",
    "plt.plot(error,sfim_ecdf,'b--',linewidth=2,label=\"SFIM Mobile Radar [ours]\")\n",
    "plt.xlabel('RMSE $(\\chi^{T_{1:M}},\\\\hat{\\chi}^{T_{1:M}})$',fontsize=15)\n",
    "plt.ylabel(\"ECDF\",fontsize=15)\n",
    "plt.title(title,fontsize=15)\n",
    "plt.legend(fontsize=12)\n",
    "plt.ylim([0,1])\n",
    "plt.tight_layout()\n",
    "plt.savefig(os.path.join(\"results\",f\"ecdf{experiment_number}.pdf\")) # "
   ]
  },
  {
   "cell_type": "markdown",
   "id": "764a8398-36a9-443e-9894-113bd15db07d",
   "metadata": {},
   "source": [
    "## Plot Overlapped Results"
   ]
  },
  {
   "cell_type": "code",
   "execution_count": null,
   "id": "a1af72e6-cf48-40eb-8121-c07073daa642",
   "metadata": {},
   "outputs": [],
   "source": [
    "folder_path = r\"/home/mlpotter/Documents/Northeastern/Research/OptimalTrackingAndControl/src_range_publish\"\n",
    "experiment_name = \"test_SFIMbad_e1_123\"\n",
    "results_savepath = \"results\"\n",
    "filepath = os.path.join(results_savepath,experiment_name)\n",
    "\n",
    "k,rmse_sfimbad = get_rmse_array(filepath)\n",
    "print(len(rmse_sfimbad))"
   ]
  },
  {
   "cell_type": "code",
   "execution_count": null,
   "id": "38159a06-f078-480b-beb8-f40db885992e",
   "metadata": {},
   "outputs": [],
   "source": [
    "folder_path = r\"/home/mlpotter/Documents/Northeastern/Research/OptimalTrackingAndControl/src_range_publish\"\n",
    "experiment_name = \"test_SFIM_e1_123\"\n",
    "results_savepath = \"results\"\n",
    "filepath = os.path.join(results_savepath,experiment_name)\n",
    "\n",
    "k,rmse_sfim = get_rmse_array(filepath)\n",
    "print(len(rmse_sfim))"
   ]
  },
  {
   "cell_type": "code",
   "execution_count": null,
   "id": "0c36de68-7d13-4fc8-aa23-c4632118f461",
   "metadata": {},
   "outputs": [],
   "source": [
    "plt.figure(figsize=(10,5))\n",
    "\n",
    "plt.plot(rmse_sfimbad.ravel(), linewidth=2,color=\"red\",label='SFIM (constant covariance) [9,13,22]') #mean curve.\n",
    "plt.plot(rmse_sfim.ravel(), linewidth=2,color=\"blue\",label='SFIM Mobile Radar [ours]') #mean curve.\n",
    "\n",
    "plt.xlabel(\"Time Step\",fontsize=15)\n",
    "plt.ylabel('RMSE $\\sqrt{|| \\chi^{T_{1:M}} - \\\\hat{\\chi}^{T_{1:M}} ||}$',fontsize=15)\n",
    "# plt.ylabel(\"$x^2$\")\n",
    "plt.legend(loc=\"upper left\",fontsize=15)\n",
    "plt.title(\"3 Radars - 4 Targets\",fontsize=20)\n",
    "plt.savefig(os.path.join(\"results\",\"rmse_mse_realization1.pdf\"))"
   ]
  },
  {
   "cell_type": "code",
   "execution_count": null,
   "id": "be761923-cb38-4fae-9a8a-61d472419b05",
   "metadata": {},
   "outputs": [],
   "source": [
    "folder_path = r\"/home/mlpotter/Documents/Northeastern/Research/OptimalTrackingAndControl/src_range_publish\"\n",
    "experiment_name = \"test_SFIMbad_e2_123\"\n",
    "results_savepath = \"results\"\n",
    "filepath = os.path.join(results_savepath,experiment_name)\n",
    "\n",
    "k,rmse_sfimbad = get_rmse_array(filepath)\n",
    "print(len(rmse_sfimbad))"
   ]
  },
  {
   "cell_type": "code",
   "execution_count": null,
   "id": "fd91ad9b-4e3b-4d46-bafb-3043ddb9dec5",
   "metadata": {},
   "outputs": [],
   "source": [
    "folder_path = r\"/home/mlpotter/Documents/Northeastern/Research/OptimalTrackingAndControl/src_range_publish\"\n",
    "experiment_name = \"test_SFIM_e2_123\"\n",
    "results_savepath = \"results\"\n",
    "filepath = os.path.join(results_savepath,experiment_name)\n",
    "\n",
    "k,rmse_sfim = get_rmse_array(filepath)\n",
    "print(len(rmse_sfim))"
   ]
  },
  {
   "cell_type": "code",
   "execution_count": null,
   "id": "4b72148d-c0d8-4ef2-bc58-c210dd72a941",
   "metadata": {},
   "outputs": [],
   "source": [
    "plt.figure(figsize=(10,5))\n",
    "\n",
    "plt.plot(rmse_sfimbad.ravel(), linewidth=2,color=\"red\",label='SFIM (constant covariance) [9,13,22]') #mean curve.\n",
    "plt.plot(rmse_sfim.ravel(), linewidth=2,color=\"blue\",label='SFIM Mobile Radar [ours]') #mean curve.\n",
    "\n",
    "plt.xlabel(\"Time Step\",fontsize=15)\n",
    "plt.ylabel('RMSE $\\sqrt{|| \\chi^{T_{1:M}} - \\\\hat{\\chi}^{T_{1:M}} ||}$',fontsize=15)\n",
    "# plt.ylabel(\"$x^2$\")\n",
    "plt.legend(loc=\"upper right\",fontsize=15)\n",
    "plt.title(\"6 Radars - 3 Targets\",fontsize=20)\n",
    "plt.savefig(os.path.join(\"results\",\"rmse_mse_realization2.pdf\"))"
   ]
  },
  {
   "cell_type": "code",
   "execution_count": null,
   "id": "27d509fa-94bf-43b5-8add-a2699fb300cf",
   "metadata": {},
   "outputs": [],
   "source": []
  }
 ],
 "metadata": {
  "kernelspec": {
   "display_name": "Python 3 (ipykernel)",
   "language": "python",
   "name": "python3"
  },
  "language_info": {
   "codemirror_mode": {
    "name": "ipython",
    "version": 3
   },
   "file_extension": ".py",
   "mimetype": "text/x-python",
   "name": "python",
   "nbconvert_exporter": "python",
   "pygments_lexer": "ipython3",
   "version": "3.9.19"
  }
 },
 "nbformat": 4,
 "nbformat_minor": 5
}
